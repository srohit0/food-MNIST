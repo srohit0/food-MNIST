{
  "nbformat": 4,
  "nbformat_minor": 0,
  "metadata": {
    "colab": {
      "name": "food_mnist_example.ipynb",
      "version": "0.3.2",
      "provenance": [],
      "private_outputs": true,
      "collapsed_sections": [],
      "include_colab_link": true
    },
    "kernelspec": {
      "name": "python3",
      "display_name": "Python 3"
    }
  },
  "cells": [
    {
      "cell_type": "markdown",
      "metadata": {
        "id": "view-in-github",
        "colab_type": "text"
      },
      "source": [
        "<a href=\"https://colab.research.google.com/github/srohit0/food_mnist/blob/master/examples/example1.ipynb\" target=\"_parent\"><img src=\"https://colab.research.google.com/assets/colab-badge.svg\" alt=\"Open In Colab\"/></a>"
      ]
    },
    {
      "cell_type": "markdown",
      "metadata": {
        "id": "EipfiW_XiSfh",
        "colab_type": "text"
      },
      "source": [
        "## Using food_mnist dataset"
      ]
    },
    {
      "cell_type": "code",
      "metadata": {
        "id": "0GsL2_yGiPwP",
        "colab_type": "code",
        "colab": {}
      },
      "source": [
        "%%time\n",
        "! git clone https://github.com/srohit0/food_mnist.git\n",
        "  \n",
        "import food_mnist\n",
        "\n",
        "(x_train, y_train), (x_test, y_test) = food_mnist.load_data()\n",
        "labels_dict = food_mnist.labels()"
      ],
      "execution_count": 0,
      "outputs": []
    },
    {
      "cell_type": "code",
      "metadata": {
        "id": "eVUh4fMJD5e_",
        "colab_type": "code",
        "colab": {}
      },
      "source": [
        "print(y_train[0])"
      ],
      "execution_count": 0,
      "outputs": []
    },
    {
      "cell_type": "markdown",
      "metadata": {
        "id": "ZhHuQ10smi-a",
        "colab_type": "text"
      },
      "source": [
        "## Display Images"
      ]
    },
    {
      "cell_type": "code",
      "metadata": {
        "id": "Re6HzIEMmm8t",
        "colab_type": "code",
        "colab": {}
      },
      "source": [
        "import random\n",
        "from google.colab.patches import cv2_imshow\n",
        "\n",
        "print(\"Image shape:\", x_train[0].shape)\n",
        "for x in range(4):\n",
        "  image = x_train[random.randint(0,3750)]\n",
        "  cv2_imshow(image)"
      ],
      "execution_count": 0,
      "outputs": []
    }
  ]
}